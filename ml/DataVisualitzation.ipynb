{
 "cells": [
  {
   "cell_type": "code",
   "execution_count": 1,
   "metadata": {},
   "outputs": [],
   "source": [
    "import pandas as pd\n",
    "\n",
    "df = pd.read_csv (r'~/Downloads/values.csv')"
   ]
  },
  {
   "cell_type": "code",
   "execution_count": 45,
   "metadata": {},
   "outputs": [],
   "source": [
    "class bcolors:\n",
    "    HEADER = '\\033[95m'\n",
    "    OKBLUE = '\\033[94m'\n",
    "    OKCYAN = '\\033[96m'\n",
    "    OKGREEN = '\\033[92m'\n",
    "    WARNING = '\\033[93m'\n",
    "    FAIL = '\\033[91m'\n",
    "    ENDC = '\\033[0m'\n",
    "    BOLD = '\\033[1m'\n",
    "    UNDERLINE = '\\033[4m'"
   ]
  },
  {
   "cell_type": "code",
   "execution_count": 2,
   "metadata": {},
   "outputs": [
    {
     "data": {
      "text/html": [
       "<div>\n",
       "<style scoped>\n",
       "    .dataframe tbody tr th:only-of-type {\n",
       "        vertical-align: middle;\n",
       "    }\n",
       "\n",
       "    .dataframe tbody tr th {\n",
       "        vertical-align: top;\n",
       "    }\n",
       "\n",
       "    .dataframe thead th {\n",
       "        text-align: right;\n",
       "    }\n",
       "</style>\n",
       "<table border=\"1\" class=\"dataframe\">\n",
       "  <thead>\n",
       "    <tr style=\"text-align: right;\">\n",
       "      <th></th>\n",
       "      <th>a</th>\n",
       "      <th>b</th>\n",
       "      <th>c</th>\n",
       "    </tr>\n",
       "  </thead>\n",
       "  <tbody>\n",
       "    <tr>\n",
       "      <th>count</th>\n",
       "      <td>2.930000e+02</td>\n",
       "      <td>293.000000</td>\n",
       "      <td>293.000000</td>\n",
       "    </tr>\n",
       "    <tr>\n",
       "      <th>mean</th>\n",
       "      <td>-3.793106e-06</td>\n",
       "      <td>0.097745</td>\n",
       "      <td>-532.208275</td>\n",
       "    </tr>\n",
       "    <tr>\n",
       "      <th>std</th>\n",
       "      <td>9.057253e-07</td>\n",
       "      <td>0.017059</td>\n",
       "      <td>87.844236</td>\n",
       "    </tr>\n",
       "    <tr>\n",
       "      <th>min</th>\n",
       "      <td>-1.191466e-05</td>\n",
       "      <td>0.062540</td>\n",
       "      <td>-1112.948629</td>\n",
       "    </tr>\n",
       "    <tr>\n",
       "      <th>25%</th>\n",
       "      <td>-4.243026e-06</td>\n",
       "      <td>0.086497</td>\n",
       "      <td>-582.197177</td>\n",
       "    </tr>\n",
       "    <tr>\n",
       "      <th>50%</th>\n",
       "      <td>-3.729551e-06</td>\n",
       "      <td>0.096546</td>\n",
       "      <td>-526.825773</td>\n",
       "    </tr>\n",
       "    <tr>\n",
       "      <th>75%</th>\n",
       "      <td>-3.183655e-06</td>\n",
       "      <td>0.107152</td>\n",
       "      <td>-475.494365</td>\n",
       "    </tr>\n",
       "    <tr>\n",
       "      <th>max</th>\n",
       "      <td>-1.884254e-06</td>\n",
       "      <td>0.237608</td>\n",
       "      <td>-363.625559</td>\n",
       "    </tr>\n",
       "  </tbody>\n",
       "</table>\n",
       "</div>"
      ],
      "text/plain": [
       "                  a           b            c\n",
       "count  2.930000e+02  293.000000   293.000000\n",
       "mean  -3.793106e-06    0.097745  -532.208275\n",
       "std    9.057253e-07    0.017059    87.844236\n",
       "min   -1.191466e-05    0.062540 -1112.948629\n",
       "25%   -4.243026e-06    0.086497  -582.197177\n",
       "50%   -3.729551e-06    0.096546  -526.825773\n",
       "75%   -3.183655e-06    0.107152  -475.494365\n",
       "max   -1.884254e-06    0.237608  -363.625559"
      ]
     },
     "execution_count": 2,
     "metadata": {},
     "output_type": "execute_result"
    }
   ],
   "source": [
    "df.describe()"
   ]
  },
  {
   "cell_type": "markdown",
   "metadata": {},
   "source": [
    "# Load Values From File"
   ]
  },
  {
   "cell_type": "code",
   "execution_count": 90,
   "metadata": {
    "scrolled": true
   },
   "outputs": [
    {
     "name": "stderr",
     "output_type": "stream",
     "text": [
      "/Users/rbol384/.local/lib/python3.6/site-packages/numpy/lib/function_base.py:380: RuntimeWarning: Mean of empty slice.\n",
      "  avg = a.mean(axis)\n",
      "/Users/rbol384/.local/lib/python3.6/site-packages/numpy/core/_methods.py:170: RuntimeWarning: invalid value encountered in double_scalars\n",
      "  ret = ret.dtype.type(ret / rcount)\n"
     ]
    },
    {
     "name": "stdout",
     "output_type": "stream",
     "text": [
      "Loading file number:.........50\n",
      "Loading file number:.........100\n",
      "Loading file number:.........150\n",
      "Loading file number:.........200\n",
      "\u001b[93mWarning: There has Been an error with ID:  KNGZZGQY793LC796Z3LXMLGBDT\u001b[0m\n",
      "\u001b[93mWarning: There has Been an error with ID:  KNGZZGQY793LC796Z3LXMLGBDT\u001b[0m\n",
      "\u001b[93mWarning: There has Been an error with ID:  KNGZZGQY793LC796Z3LXMLGBDT\u001b[0m\n",
      "\u001b[93mWarning: There has Been an error with ID:  KNGZZGQY793LC796Z3LXMLGBDT\u001b[0m\n",
      "\u001b[93mWarning: There has Been an error with ID:  KNGZZGQY793LC796Z3LXMLGBDT\u001b[0m\n",
      "\u001b[93mWarning: There has Been an error with ID:  KNGZZGQY793LC796Z3LXMLGBDT\u001b[0m\n",
      "\u001b[93mWarning: There has Been an error with ID:  KNGZZGQY793LC796Z3LXMLGBDT\u001b[0m\n",
      "\u001b[93mWarning: There has Been an error with ID:  KNGZZGQY793LC796Z3LXMLGBDT\u001b[0m\n",
      "\u001b[93mWarning: There has Been an error with ID:  KNGZZGQY793LC796Z3LXMLGBDT\u001b[0m\n",
      "\u001b[93mWarning: There has Been an error with ID:  KNGZZGQY793LC796Z3LXMLGBDT\u001b[0m\n",
      "\u001b[93mWarning: There has Been an error with ID:  KNGZZGQY793LC796Z3LXMLGBDT\u001b[0m\n",
      "\u001b[93mWarning: There has Been an error with ID:  KNGZZGQY793LC796Z3LXMLGBDT\u001b[0m\n",
      "\u001b[93mWarning: There has Been an error with ID:  KNGZZGQY793LC796Z3LXMLGBDT\u001b[0m\n",
      "\u001b[93mWarning: There has Been an error with ID:  KNGZZGQY793LC796Z3LXMLGBDT\u001b[0m\n",
      "\u001b[93mWarning: There has Been an error with ID:  KNGZZGQY793LC796Z3LXMLGBDT\u001b[0m\n",
      "\u001b[93mWarning: There has Been an error with ID:  KNGZZGQY793LC796Z3LXMLGBDT\u001b[0m\n",
      "\u001b[93mWarning: There has Been an error with ID:  KNGZZGQY793LC796Z3LXMLGBDT\u001b[0m\n",
      "\u001b[93mWarning: There has Been an error with ID:  KNGZZGQY793LC796Z3LXMLGBDT\u001b[0m\n",
      "\u001b[93mWarning: There has Been an error with ID:  KNGZZGQY793LC796Z3LXMLGBDT\u001b[0m\n",
      "\u001b[93mWarning: There has Been an error with ID:  KNGZZGQY793LC796Z3LXMLGBDT\u001b[0m\n",
      "\u001b[93mWarning: There has Been an error with ID:  KNGZZGQY793LC796Z3LXMLGBDT\u001b[0m\n",
      "\u001b[93mWarning: There has Been an error with ID:  KNGZZGQY793LC796Z3LXMLGBDT\u001b[0m\n",
      "\u001b[93mWarning: There has Been an error with ID:  KNGZZGQY793LC796Z3LXMLGBDT\u001b[0m\n",
      "\u001b[93mWarning: There has Been an error with ID:  KNGZZGQY793LC796Z3LXMLGBDT\u001b[0m\n",
      "\u001b[93mWarning: There has Been an error with ID:  KNGZZGQY793LC796Z3LXMLGBDT\u001b[0m\n",
      "\u001b[93mWarning: There has Been an error with ID:  KNGZZGQY793LC796Z3LXMLGBDT\u001b[0m\n",
      "\u001b[93mWarning: There has Been an error with ID:  KNGZZGQY793LC796Z3LXMLGBDT\u001b[0m\n",
      "Loading file number:.........250\n"
     ]
    }
   ],
   "source": [
    "import glob\n",
    "import numpy as np\n",
    "\n",
    "path = r'../data_tue/*' # use your path\n",
    "all_folders = glob.glob(path)\n",
    "\n",
    "\n",
    "li = []\n",
    "df_out=pd.DataFrame(columns=['id','real_temp','adc_value'])\n",
    "df_out_id=pd.DataFrame(columns=['id','tmp_l','adc_l','tmp_m','adc_m','tmp_h','adc_h'])\n",
    "\n",
    "# dl=pd.DataFrame(columns=['real_temp','header','frimware_adc','col4','col5','col6','col7','col8','col9','col10','col11','col12','col3','col4','col15'])\n",
    "i=1\n",
    "j=1\n",
    "l=1\n",
    "for folder in all_folders:\n",
    "    df=pd.read_csv(folder+'/data.txt', index_col=None, header=None)\n",
    "    np_low_temp=np.array([])\n",
    "    np_low_adc=np.array([])\n",
    "    np_high_temp=np.array([])\n",
    "    np_high_adc=np.array([])\n",
    "    np_mid_temp=np.array([])\n",
    "    np_mid_adc=np.array([])\n",
    "    for row in df.iterrows():\n",
    "        try:\n",
    "            if row[1][3]==265:\n",
    "                df_out.loc[i]=folder.split('/')[2],float(row[1][0]),float(row[1][5])\n",
    "            else:\n",
    "                df_out.loc[i]=folder.split('/')[2],float(row[1][0]),float(row[1][6])\n",
    "            if df_out.loc[i]['real_temp']<10:\n",
    "                np_low_temp = np.append(np_low_temp, df_out.loc[i]['real_temp'])\n",
    "                np_low_adc = np.append(np_low_adc, df_out.loc[i]['adc_value'])\n",
    "            elif df_out.loc[i]['real_temp']>60:\n",
    "                np_high_temp = np.append(np_high_temp, df_out.loc[i]['real_temp'])\n",
    "                np_high_adc = np.append(np_high_adc, df_out.loc[i]['adc_value'])\n",
    "            else:\n",
    "                np_mid_temp =  np.append(np_mid_temp, df_out.loc[i]['real_temp'])\n",
    "                np_mid_adc =  np.append(np_mid_adc, df_out.loc[i]['adc_value'])\n",
    "            i+=1\n",
    "        except:\n",
    "            print (bcolors.WARNING + \"Warning: There has Been an error with ID:  \"+str(folder.split('/')[2])+ bcolors.ENDC)\n",
    "    \n",
    "    df_out_id.loc[l]= folder.split('/')[2],np.average(np_low_temp),np.average(np_low_adc),np.average(np_mid_temp),np.average(np_mid_adc),np.average(np_high_temp),np.average(np_high_adc)\n",
    "    \n",
    "    l+=1\n",
    "    if j%50 == 0:\n",
    "#         print (bcolors.WARNING+\"Printing ID:  \"+str(folder.split('/')[2])+bcolors.ENDC)\n",
    "        print (\"Loading file number:.........\"+str(j))\n",
    "    j+=1\n",
    "    #     df = pd.read_csv(folder+'/data.txt', index_col=None, header=0)\n",
    "# frame = pd.concat(li, axis=0, ignore_index=True)"
   ]
  },
  {
   "cell_type": "code",
   "execution_count": null,
   "metadata": {},
   "outputs": [],
   "source": []
  },
  {
   "cell_type": "code",
   "execution_count": 93,
   "metadata": {},
   "outputs": [
    {
     "data": {
      "text/plain": [
       "array([[<matplotlib.axes._subplots.AxesSubplot object at 0x1308534a8>,\n",
       "        <matplotlib.axes._subplots.AxesSubplot object at 0x1295672b0>],\n",
       "       [<matplotlib.axes._subplots.AxesSubplot object at 0x129727eb8>,\n",
       "        <matplotlib.axes._subplots.AxesSubplot object at 0x12974af28>],\n",
       "       [<matplotlib.axes._subplots.AxesSubplot object at 0x129773e48>,\n",
       "        <matplotlib.axes._subplots.AxesSubplot object at 0x129773e80>]],\n",
       "      dtype=object)"
      ]
     },
     "execution_count": 93,
     "metadata": {},
     "output_type": "execute_result"
    },
    {
     "data": {
      "image/png": "[encoded data removed]",
      "text/plain": [
       "<matplotlib.figure.Figure at 0x129b520f0>"
      ]
     },
     "metadata": {},
     "output_type": "display_data"
    }
   ],
   "source": [
    "df_out_id.hist(bins=100, figsize=(20,15))"
   ]
  },
  {
   "cell_type": "code",
   "execution_count": 100,
   "metadata": {},
   "outputs": [
    {
     "ename": "NameError",
     "evalue": "name 'scatter_matrix' is not defined",
     "output_type": "error",
     "traceback": [
      "\u001b[0;31m---------------------------------------------------------------------------\u001b[0m",
      "\u001b[0;31mNameError\u001b[0m                                 Traceback (most recent call last)",
      "\u001b[0;32m<ipython-input-100-cccff27c2375>\u001b[0m in \u001b[0;36m<module>\u001b[0;34m()\u001b[0m\n\u001b[1;32m      1\u001b[0m \u001b[0mattributes\u001b[0m \u001b[0;34m=\u001b[0m \u001b[0;34m[\u001b[0m\u001b[0;34m\"adc_l\"\u001b[0m\u001b[0;34m,\u001b[0m \u001b[0;34m\"adc_h\"\u001b[0m\u001b[0;34m,\u001b[0m \u001b[0;34m\"adc_m\"\u001b[0m\u001b[0;34m]\u001b[0m\u001b[0;34m\u001b[0m\u001b[0m\n\u001b[0;32m----> 2\u001b[0;31m \u001b[0mscatter_matrix\u001b[0m\u001b[0;34m(\u001b[0m\u001b[0mhousing\u001b[0m\u001b[0;34m[\u001b[0m\u001b[0mattributes\u001b[0m\u001b[0;34m]\u001b[0m\u001b[0;34m,\u001b[0m \u001b[0mfigsize\u001b[0m\u001b[0;34m=\u001b[0m\u001b[0;34m(\u001b[0m\u001b[0;36m12\u001b[0m\u001b[0;34m,\u001b[0m \u001b[0;36m8\u001b[0m\u001b[0;34m)\u001b[0m\u001b[0;34m)\u001b[0m\u001b[0;34m\u001b[0m\u001b[0m\n\u001b[0m",
      "\u001b[0;31mNameError\u001b[0m: name 'scatter_matrix' is not defined"
     ]
    }
   ],
   "source": [
    "attributes = [\"adc_l\", \"adc_h\", \"adc_m\"]\n",
    "scatter_matrix(df_out_id[attributes], figsize=(12, 8))"
   ]
  },
  {
   "cell_type": "code",
   "execution_count": 99,
   "metadata": {},
   "outputs": [
    {
     "data": {
      "text/plain": [
       "<matplotlib.axes._subplots.AxesSubplot at 0x12c7ba0b8>"
      ]
     },
     "execution_count": 99,
     "metadata": {},
     "output_type": "execute_result"
    },
    {
     "data": {
      "image/png": "[encoded data removed]",
      "text/plain": [
       "<matplotlib.figure.Figure at 0x12f6255c0>"
      ]
     },
     "metadata": {},
     "output_type": "display_data"
    }
   ],
   "source": [
    "df_out_id.plot(kind=\"scatter\", x=\"adc_l\", y=\"adc_m\")"
   ]
  },
  {
   "cell_type": "code",
   "execution_count": 49,
   "metadata": {},
   "outputs": [
    {
     "data": {
      "text/plain": [
       "count    24718.000000\n",
       "mean      9633.271583\n",
       "std       5444.119012\n",
       "min        757.000000\n",
       "25%       8080.000000\n",
       "50%       8792.000000\n",
       "75%       9998.000000\n",
       "max      64742.000000\n",
       "Name: adc_value, dtype: float64"
      ]
     },
     "execution_count": 49,
     "metadata": {},
     "output_type": "execute_result"
    }
   ],
   "source": [
    "df_out['adc_value'].describe()"
   ]
  },
  {
   "cell_type": "code",
   "execution_count": 50,
   "metadata": {},
   "outputs": [
    {
     "data": {
      "text/plain": [
       "'DWACYC0NGZFQN4ZKYPM3JP3ZWR'"
      ]
     },
     "execution_count": 50,
     "metadata": {},
     "output_type": "execute_result"
    }
   ],
   "source": [
    "folder.split('/')[2]"
   ]
  },
  {
   "cell_type": "code",
   "execution_count": 51,
   "metadata": {},
   "outputs": [
    {
     "data": {
      "text/plain": [
       "count                          24718\n",
       "unique                           299\n",
       "top       NSCAJ8NZT6BFL7J8KXSFQX6C2Y\n",
       "freq                             109\n",
       "Name: id, dtype: object"
      ]
     },
     "execution_count": 51,
     "metadata": {},
     "output_type": "execute_result"
    }
   ],
   "source": [
    "df_out['id'].describe()"
   ]
  },
  {
   "cell_type": "code",
   "execution_count": 52,
   "metadata": {},
   "outputs": [
    {
     "data": {
      "text/plain": [
       "array([[<matplotlib.axes._subplots.AxesSubplot object at 0x12ce8d2b0>,\n",
       "        <matplotlib.axes._subplots.AxesSubplot object at 0x12f8f9a58>]],\n",
       "      dtype=object)"
      ]
     },
     "execution_count": 52,
     "metadata": {},
     "output_type": "execute_result"
    },
    {
     "data": {
      "image/png": "[encoded data removed]",
      "text/plain": [
       "<matplotlib.figure.Figure at 0x12ce97be0>"
      ]
     },
     "metadata": {},
     "output_type": "display_data"
    }
   ],
   "source": [
    "df_out.hist()"
   ]
  },
  {
   "cell_type": "code",
   "execution_count": 53,
   "metadata": {},
   "outputs": [
    {
     "data": {
      "text/plain": [
       "count    24718.000000\n",
       "mean        36.761138\n",
       "std         28.688238\n",
       "min          1.900000\n",
       "25%          3.600000\n",
       "50%         35.900000\n",
       "75%         71.300000\n",
       "max         79.700000\n",
       "Name: real_temp, dtype: float64"
      ]
     },
     "execution_count": 53,
     "metadata": {},
     "output_type": "execute_result"
    }
   ],
   "source": [
    "df_out['real_temp'].describe()"
   ]
  },
  {
   "cell_type": "code",
   "execution_count": 58,
   "metadata": {},
   "outputs": [
    {
     "data": {
      "image/png": "[encoded data removed]",
      "text/plain": [
       "<matplotlib.figure.Figure at 0x132705b38>"
      ]
     },
     "metadata": {},
     "output_type": "display_data"
    }
   ],
   "source": [
    "import matplotlib.pyplot as plt\n",
    "import numpy as np\n",
    "\n",
    "# Fixing random state for reproducibility\n",
    "\n",
    "x = df_out['real_temp']\n",
    "y = df_out['adc_value']\n",
    "# s = np.random.rand(*x.shape) * 800 + 500\n",
    "\n",
    "plt.scatter(x, y, s=0.1, c=\"b\", alpha=0.5)\n",
    "plt.xlabel(\"Leprechauns\")\n",
    "plt.ylabel(\"Gold\")\n",
    "plt.legend(loc='upper left')\n",
    "plt.show()"
   ]
  },
  {
   "cell_type": "code",
   "execution_count": 69,
   "metadata": {},
   "outputs": [
    {
     "ename": "ValueError",
     "evalue": "No axis named False for object type <class 'pandas.core.frame.DataFrame'>",
     "output_type": "error",
     "traceback": [
      "\u001b[0;31m---------------------------------------------------------------------------\u001b[0m",
      "\u001b[0;31mValueError\u001b[0m                                Traceback (most recent call last)",
      "\u001b[0;32m<ipython-input-69-a738e8fce204>\u001b[0m in \u001b[0;36m<module>\u001b[0;34m()\u001b[0m\n\u001b[0;32m----> 1\u001b[0;31m \u001b[0mdf_out\u001b[0m\u001b[0;34m.\u001b[0m\u001b[0mloc\u001b[0m\u001b[0;34m(\u001b[0m\u001b[0;34m'id'\u001b[0m\u001b[0;34m==\u001b[0m\u001b[0;34m\"BHG2WDMA8C2DVJ7C27B3DNQZGT\"\u001b[0m\u001b[0;34m)\u001b[0m\u001b[0;34m\u001b[0m\u001b[0m\n\u001b[0m",
      "\u001b[0;32m/usr/local/anaconda3/lib/python3.6/site-packages/pandas/core/indexing.py\u001b[0m in \u001b[0;36m__call__\u001b[0;34m(self, axis)\u001b[0m\n\u001b[1;32m    101\u001b[0m \u001b[0;34m\u001b[0m\u001b[0m\n\u001b[1;32m    102\u001b[0m         \u001b[0;32mif\u001b[0m \u001b[0maxis\u001b[0m \u001b[0;32mis\u001b[0m \u001b[0;32mnot\u001b[0m \u001b[0;32mNone\u001b[0m\u001b[0;34m:\u001b[0m\u001b[0;34m\u001b[0m\u001b[0m\n\u001b[0;32m--> 103\u001b[0;31m             \u001b[0maxis\u001b[0m \u001b[0;34m=\u001b[0m \u001b[0mself\u001b[0m\u001b[0;34m.\u001b[0m\u001b[0mobj\u001b[0m\u001b[0;34m.\u001b[0m\u001b[0m_get_axis_number\u001b[0m\u001b[0;34m(\u001b[0m\u001b[0maxis\u001b[0m\u001b[0;34m)\u001b[0m\u001b[0;34m\u001b[0m\u001b[0m\n\u001b[0m\u001b[1;32m    104\u001b[0m         \u001b[0mnew_self\u001b[0m\u001b[0;34m.\u001b[0m\u001b[0maxis\u001b[0m \u001b[0;34m=\u001b[0m \u001b[0maxis\u001b[0m\u001b[0;34m\u001b[0m\u001b[0m\n\u001b[1;32m    105\u001b[0m         \u001b[0;32mreturn\u001b[0m \u001b[0mnew_self\u001b[0m\u001b[0;34m\u001b[0m\u001b[0m\n",
      "\u001b[0;32m/usr/local/anaconda3/lib/python3.6/site-packages/pandas/core/generic.py\u001b[0m in \u001b[0;36m_get_axis_number\u001b[0;34m(self, axis)\u001b[0m\n\u001b[1;32m    355\u001b[0m                 \u001b[0;32mpass\u001b[0m\u001b[0;34m\u001b[0m\u001b[0m\n\u001b[1;32m    356\u001b[0m         raise ValueError('No axis named {0} for object type {1}'\n\u001b[0;32m--> 357\u001b[0;31m                          .format(axis, type(self)))\n\u001b[0m\u001b[1;32m    358\u001b[0m \u001b[0;34m\u001b[0m\u001b[0m\n\u001b[1;32m    359\u001b[0m     \u001b[0;32mdef\u001b[0m \u001b[0m_get_axis_name\u001b[0m\u001b[0;34m(\u001b[0m\u001b[0mself\u001b[0m\u001b[0;34m,\u001b[0m \u001b[0maxis\u001b[0m\u001b[0;34m)\u001b[0m\u001b[0;34m:\u001b[0m\u001b[0;34m\u001b[0m\u001b[0m\n",
      "\u001b[0;31mValueError\u001b[0m: No axis named False for object type <class 'pandas.core.frame.DataFrame'>"
     ]
    }
   ],
   "source": [
    "df_out.loc('id'==\"BHG2WDMA8C2DVJ7C27B3DNQZGT\")"
   ]
  },
  {
   "cell_type": "code",
   "execution_count": 65,
   "metadata": {},
   "outputs": [
    {
     "data": {
      "text/plain": [
       "'BHG2WDMA8C2DVJ7C27B3DNQZGT'"
      ]
     },
     "execution_count": 65,
     "metadata": {},
     "output_type": "execute_result"
    }
   ],
   "source": [
    "df_out.loc[1]['id']"
   ]
  },
  {
   "cell_type": "code",
   "execution_count": null,
   "metadata": {},
   "outputs": [],
   "source": []
  }
 ],
 "metadata": {
  "kernelspec": {
   "display_name": "Python 3.6.4 64-bit ('anaconda3': virtualenv)",
   "language": "python",
   "name": "python36464bitanaconda3virtualenv1f0645b44ab54a2184337ebb15dcf035"
  },
  "language_info": {
   "codemirror_mode": {
    "name": "ipython",
    "version": 3
   },
   "file_extension": ".py",
   "mimetype": "text/x-python",
   "name": "python",
   "nbconvert_exporter": "python",
   "pygments_lexer": "ipython3",
   "version": "3.6.4"
  }
 },
 "nbformat": 4,
 "nbformat_minor": 2
}
