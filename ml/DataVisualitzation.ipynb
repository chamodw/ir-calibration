{
 "cells": [
  {
   "cell_type": "code",
   "execution_count": 1,
   "metadata": {},
   "outputs": [],
   "source": [
    "import pandas as pd\n",
    "\n",
    "df = pd.read_csv (r'~/Downloads/values.csv')"
   ]
  },
  {
   "cell_type": "code",
   "execution_count": 2,
   "metadata": {},
   "outputs": [
    {
     "data": {
      "text/html": [
       "<div>\n",
       "<style scoped>\n",
       "    .dataframe tbody tr th:only-of-type {\n",
       "        vertical-align: middle;\n",
       "    }\n",
       "\n",
       "    .dataframe tbody tr th {\n",
       "        vertical-align: top;\n",
       "    }\n",
       "\n",
       "    .dataframe thead th {\n",
       "        text-align: right;\n",
       "    }\n",
       "</style>\n",
       "<table border=\"1\" class=\"dataframe\">\n",
       "  <thead>\n",
       "    <tr style=\"text-align: right;\">\n",
       "      <th></th>\n",
       "      <th>a</th>\n",
       "      <th>b</th>\n",
       "      <th>c</th>\n",
       "    </tr>\n",
       "  </thead>\n",
       "  <tbody>\n",
       "    <tr>\n",
       "      <th>count</th>\n",
       "      <td>2.930000e+02</td>\n",
       "      <td>293.000000</td>\n",
       "      <td>293.000000</td>\n",
       "    </tr>\n",
       "    <tr>\n",
       "      <th>mean</th>\n",
       "      <td>-3.793106e-06</td>\n",
       "      <td>0.097745</td>\n",
       "      <td>-532.208275</td>\n",
       "    </tr>\n",
       "    <tr>\n",
       "      <th>std</th>\n",
       "      <td>9.057253e-07</td>\n",
       "      <td>0.017059</td>\n",
       "      <td>87.844236</td>\n",
       "    </tr>\n",
       "    <tr>\n",
       "      <th>min</th>\n",
       "      <td>-1.191466e-05</td>\n",
       "      <td>0.062540</td>\n",
       "      <td>-1112.948629</td>\n",
       "    </tr>\n",
       "    <tr>\n",
       "      <th>25%</th>\n",
       "      <td>-4.243026e-06</td>\n",
       "      <td>0.086497</td>\n",
       "      <td>-582.197177</td>\n",
       "    </tr>\n",
       "    <tr>\n",
       "      <th>50%</th>\n",
       "      <td>-3.729551e-06</td>\n",
       "      <td>0.096546</td>\n",
       "      <td>-526.825773</td>\n",
       "    </tr>\n",
       "    <tr>\n",
       "      <th>75%</th>\n",
       "      <td>-3.183655e-06</td>\n",
       "      <td>0.107152</td>\n",
       "      <td>-475.494365</td>\n",
       "    </tr>\n",
       "    <tr>\n",
       "      <th>max</th>\n",
       "      <td>-1.884254e-06</td>\n",
       "      <td>0.237608</td>\n",
       "      <td>-363.625559</td>\n",
       "    </tr>\n",
       "  </tbody>\n",
       "</table>\n",
       "</div>"
      ],
      "text/plain": [
       "                  a           b            c\n",
       "count  2.930000e+02  293.000000   293.000000\n",
       "mean  -3.793106e-06    0.097745  -532.208275\n",
       "std    9.057253e-07    0.017059    87.844236\n",
       "min   -1.191466e-05    0.062540 -1112.948629\n",
       "25%   -4.243026e-06    0.086497  -582.197177\n",
       "50%   -3.729551e-06    0.096546  -526.825773\n",
       "75%   -3.183655e-06    0.107152  -475.494365\n",
       "max   -1.884254e-06    0.237608  -363.625559"
      ]
     },
     "execution_count": 2,
     "metadata": {},
     "output_type": "execute_result"
    }
   ],
   "source": [
    "df.describe()"
   ]
  },
  {
   "cell_type": "markdown",
   "metadata": {},
   "source": [
    "# Load Values From File"
   ]
  },
  {
   "cell_type": "code",
   "execution_count": null,
   "metadata": {},
   "outputs": [
    {
     "name": "stdout",
     "output_type": "stream",
     "text": [
      "Loading file number:.........10\n",
      "Loading file number:.........20\n",
      "Loading file number:.........30\n",
      "Loading file number:.........40\n",
      "Loading file number:.........50\n",
      "Loading file number:.........60\n",
      "Loading file number:.........70\n",
      "Loading file number:.........80\n",
      "Loading file number:.........90\n",
      "Loading file number:.........100\n",
      "Loading file number:.........110\n",
      "Loading file number:.........120\n",
      "Loading file number:.........130\n",
      "Loading file number:.........140\n",
      "Loading file number:.........150\n",
      "Loading file number:.........160\n",
      "Loading file number:.........170\n",
      "Loading file number:.........180\n",
      "Loading file number:.........190\n",
      "Loading file number:.........200\n",
      "Loading file number:.........210\n",
      "Loading file number:.........220\n",
      "Loading file number:.........230\n",
      "Loading file number:.........240\n",
      "Loading file number:.........250\n",
      "Loading file number:.........260\n",
      "Loading file number:.........270\n",
      "Loading file number:.........280\n"
     ]
    }
   ],
   "source": [
    "import glob\n",
    "\n",
    "path = r'../data_tue/*' # use your path\n",
    "all_folders = glob.glob(path)\n",
    "\n",
    "\n",
    "li = []\n",
    "df_out=pd.DataFrame(columns=['id','real_temp','adc_value'])\n",
    "# dl=pd.DataFrame(columns=['real_temp','header','frimware_adc','col4','col5','col6','col7','col8','col9','col10','col11','col12','col3','col4','col15'])\n",
    "i=1\n",
    "j=1\n",
    "for folder in all_folders:\n",
    "    df=pd.read_csv(folder+'/data.txt', index_col=None, header=None)\n",
    "    for row in df.iterrows():\n",
    "        if row[1][3]==265:\n",
    "            df_out.loc[i]=folder.split('/')[2],row[1][0],row[1][5]\n",
    "        else:\n",
    "            df_out.loc[i]=folder.split('/')[2],row[1][0],row[1][6]\n",
    "        i+=1\n",
    "    if j%10 == 0:\n",
    "        print (\"Loading file number:.........\"+str(j))\n",
    "    j+=1\n",
    "    #     df = pd.read_csv(folder+'/data.txt', index_col=None, header=0)\n",
    "# frame = pd.concat(li, axis=0, ignore_index=True)"
   ]
  },
  {
   "cell_type": "code",
   "execution_count": null,
   "metadata": {},
   "outputs": [],
   "source": [
    "df_out.info()"
   ]
  },
  {
   "cell_type": "code",
   "execution_count": null,
   "metadata": {},
   "outputs": [],
   "source": [
    "df_out.head()"
   ]
  },
  {
   "cell_type": "code",
   "execution_count": 12,
   "metadata": {},
   "outputs": [
    {
     "data": {
      "text/plain": [
       "count    24745.000000\n",
       "mean      9632.081633\n",
       "std       5441.267152\n",
       "min        757.000000\n",
       "25%       8080.000000\n",
       "50%       8791.000000\n",
       "75%       9997.000000\n",
       "max      64742.000000\n",
       "Name: adc_value, dtype: float64"
      ]
     },
     "execution_count": 12,
     "metadata": {},
     "output_type": "execute_result"
    }
   ],
   "source": [
    "df_out['adc_value'].describe()"
   ]
  },
  {
   "cell_type": "code",
   "execution_count": 16,
   "metadata": {},
   "outputs": [
    {
     "data": {
      "text/plain": [
       "'DWACYC0NGZFQN4ZKYPM3JP3ZWR'"
      ]
     },
     "execution_count": 16,
     "metadata": {},
     "output_type": "execute_result"
    }
   ],
   "source": [
    "folder.split('/')[2]"
   ]
  },
  {
   "cell_type": "code",
   "execution_count": null,
   "metadata": {},
   "outputs": [],
   "source": [
    "df_2="
   ]
  }
 ],
 "metadata": {
  "kernelspec": {
   "display_name": "Python 3.6.4 64-bit ('anaconda3': virtualenv)",
   "language": "python",
   "name": "python36464bitanaconda3virtualenv1f0645b44ab54a2184337ebb15dcf035"
  },
  "language_info": {
   "codemirror_mode": {
    "name": "ipython",
    "version": 3
   },
   "file_extension": ".py",
   "mimetype": "text/x-python",
   "name": "python",
   "nbconvert_exporter": "python",
   "pygments_lexer": "ipython3",
   "version": "3.6.4"
  }
 },
 "nbformat": 4,
 "nbformat_minor": 2
}
